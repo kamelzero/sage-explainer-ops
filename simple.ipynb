{
 "cells": [
  {
   "cell_type": "markdown",
   "metadata": {},
   "source": [
    "# Load & Preprocess"
   ]
  },
  {
   "cell_type": "code",
   "execution_count": null,
   "metadata": {},
   "outputs": [],
   "source": [
    "import pandas as pd\n",
    "import os\n",
    "from sklearn.preprocessing import LabelEncoder\n",
    "\n",
    "fn = os.path.expanduser('~/Data/CICAPT-IIoT/CICAPT-IIoT Dataset/Network_Traffic/Phase2/phase2_NetworkData.csv')\n",
    "# nrows = 1000000\n",
    "df = pd.read_csv(fn) #, nrows=nrows)\n",
    "df = df.dropna(subset=[\"Source IP\",\"Destination IP\",\"Source Port\",\"Destination Port\",\"label\"])\n",
    "\n",
    "# format nodes\n",
    "df[\"src\"] = df[\"Source IP\"].astype(str) + \":\" + df[\"Source Port\"].astype(str)\n",
    "df[\"dst\"] = df[\"Destination IP\"].astype(str) + \":\" + df[\"Destination Port\"].astype(str)\n",
    "\n",
    "# canonicalize labels (0=benign,1=malicious)\n",
    "df[\"label_bin\"] = LabelEncoder().fit_transform(df[\"label\"])\n"
   ]
  },
  {
   "cell_type": "code",
   "execution_count": 9,
   "metadata": {},
   "outputs": [
    {
     "name": "stdout",
     "output_type": "stream",
     "text": [
      "0    10000\n",
      "Name: label, dtype: int64\n",
      "0    10000\n",
      "Name: label_bin, dtype: int64\n"
     ]
    }
   ],
   "source": [
    "# Count malicious vs benign flows\n",
    "print(df[\"label\"].value_counts())\n",
    "\n",
    "# If you’ve already binarized:\n",
    "print(df[\"label_bin\"].value_counts())\n"
   ]
  },
  {
   "cell_type": "markdown",
   "metadata": {},
   "source": [
    "# Build the Graph"
   ]
  },
  {
   "cell_type": "code",
   "execution_count": 3,
   "metadata": {},
   "outputs": [],
   "source": [
    "import networkx as nx\n",
    "\n",
    "G = nx.DiGraph()\n",
    "for _, r in df.iterrows():\n",
    "    G.add_node(r[\"src\"])\n",
    "    G.add_node(r[\"dst\"])\n",
    "    # edge carries the flow label and any features you like:\n",
    "    G.add_edge(r[\"src\"], r[\"dst\"],\n",
    "               label=int(r[\"label_bin\"]),\n",
    "               duration=float(r[\"flow_duration\"]),\n",
    "               bytes=float(r[\"Tot size\"]))\n"
   ]
  },
  {
   "cell_type": "markdown",
   "metadata": {},
   "source": [
    "# Create PyG Data for GraphSAGE"
   ]
  },
  {
   "cell_type": "code",
   "execution_count": 4,
   "metadata": {},
   "outputs": [],
   "source": [
    "import torch\n",
    "from torch_geometric.utils import from_networkx\n",
    "\n",
    "# node‐features: here just normalized out‐degree, but you can add more\n",
    "for n in G:\n",
    "    G.nodes[n][\"x\"] = [ G.out_degree(n) / 10.0 ]\n",
    "\n",
    "# node‐labels: mark any IP:Port that ever participated in a malicious flow\n",
    "for u,v,d in G.edges(data=True):\n",
    "    if d[\"label\"] == 1:\n",
    "        G.nodes[u][\"y\"] = 1\n",
    "        G.nodes[v][\"y\"] = 1\n",
    "for n in G.nodes():\n",
    "    G.nodes[n].setdefault(\"y\", 0)\n",
    "\n",
    "data = from_networkx(G)\n",
    "data.x = torch.tensor([f[\"x\"] for _,f in G.nodes(data=True)], dtype=torch.float)\n",
    "data.y = torch.tensor([f[\"y\"] for _,f in G.nodes(data=True)], dtype=torch.long)\n",
    "# PyG will fill data.edge_index automatically from G.edges\n"
   ]
  },
  {
   "cell_type": "markdown",
   "metadata": {},
   "source": [
    "# Train GraphSAGE (Inductive)"
   ]
  },
  {
   "cell_type": "code",
   "execution_count": 6,
   "metadata": {},
   "outputs": [
    {
     "name": "stdout",
     "output_type": "stream",
     "text": [
      "Epoch 01  loss = 0.6001\n",
      "Epoch 02  loss = 0.5068\n",
      "Epoch 03  loss = 0.4322\n",
      "Epoch 04  loss = 0.3728\n",
      "Epoch 05  loss = 0.3251\n",
      "Epoch 06  loss = 0.2862\n",
      "Epoch 07  loss = 0.2541\n",
      "Epoch 08  loss = 0.2270\n",
      "Epoch 09  loss = 0.2040\n",
      "Epoch 10  loss = 0.1842\n",
      "Epoch 11  loss = 0.1670\n",
      "Epoch 12  loss = 0.1520\n",
      "Epoch 13  loss = 0.1387\n",
      "Epoch 14  loss = 0.1270\n",
      "Epoch 15  loss = 0.1166\n",
      "Epoch 16  loss = 0.1073\n",
      "Epoch 17  loss = 0.0990\n",
      "Epoch 18  loss = 0.0915\n",
      "Epoch 19  loss = 0.0848\n",
      "Epoch 20  loss = 0.0788\n",
      "Epoch 21  loss = 0.0734\n",
      "Epoch 22  loss = 0.0684\n",
      "Epoch 23  loss = 0.0639\n",
      "Epoch 24  loss = 0.0599\n",
      "Epoch 25  loss = 0.0562\n",
      "Epoch 26  loss = 0.0528\n",
      "Epoch 27  loss = 0.0497\n",
      "Epoch 28  loss = 0.0469\n",
      "Epoch 29  loss = 0.0443\n",
      "Epoch 30  loss = 0.0419\n"
     ]
    }
   ],
   "source": [
    "import torch\n",
    "import torch.nn.functional as F\n",
    "from torch_geometric.nn import SAGEConv\n",
    "\n",
    "# 1) Define the model\n",
    "class SAGE(torch.nn.Module):\n",
    "    def __init__(self, in_feats, hid_feats, out_feats):\n",
    "        super().__init__()\n",
    "        self.conv1 = SAGEConv(in_feats, hid_feats)\n",
    "        self.conv2 = SAGEConv(hid_feats, out_feats)\n",
    "    def forward(self, x, edge_index):\n",
    "        x = F.relu(self.conv1(x, edge_index))\n",
    "        return self.conv2(x, edge_index)\n",
    "\n",
    "model = SAGE(data.num_node_features, 32, 2)\n",
    "device = torch.device(\"cpu\")\n",
    "model, data = model.to(device), data.to(device)\n",
    "\n",
    "# 2) Define optimizer and loss\n",
    "optimizer = torch.optim.Adam(model.parameters(), lr=0.005)\n",
    "crit      = torch.nn.CrossEntropyLoss()\n",
    "\n",
    "# 3) Full-batch training loop\n",
    "model.train()\n",
    "for epoch in range(30):\n",
    "    optimizer.zero_grad()\n",
    "    out   = model(data.x, data.edge_index)      # forward over all nodes\n",
    "    loss  = crit(out, data.y)                   # compare to all node labels\n",
    "    loss.backward()\n",
    "    optimizer.step()\n",
    "    print(f\"Epoch {epoch+1:02d}  loss = {loss.item():.4f}\")\n"
   ]
  },
  {
   "cell_type": "markdown",
   "metadata": {},
   "source": [
    "# Embed & Visualize"
   ]
  },
  {
   "cell_type": "code",
   "execution_count": 7,
   "metadata": {},
   "outputs": [
    {
     "data": {
      "image/png": "[encoded data removed]",
      "text/plain": [
       "<Figure size 700x700 with 1 Axes>"
      ]
     },
     "metadata": {},
     "output_type": "display_data"
    }
   ],
   "source": [
    "model.eval()\n",
    "with torch.no_grad():\n",
    "    Z = model(data.x, data.edge_index).cpu().numpy()\n",
    "\n",
    "from sklearn.manifold import TSNE\n",
    "import matplotlib.pyplot as plt\n",
    "\n",
    "z2d = TSNE(n_components=2, perplexity=30).fit_transform(Z)\n",
    "plt.figure(figsize=(7,7))\n",
    "plt.scatter(z2d[:,0], z2d[:,1],\n",
    "            c=data.y.cpu(), cmap=\"coolwarm\", s=20, alpha=0.7)\n",
    "plt.title(\"t-SNE of IP:Port Embeddings\\n(blue=benign, red=malicious)\")\n",
    "plt.show()\n"
   ]
  },
  {
   "cell_type": "markdown",
   "metadata": {},
   "source": [
    "# Red-Teaming Perturbation"
   ]
  },
  {
   "cell_type": "code",
   "execution_count": 8,
   "metadata": {},
   "outputs": [
    {
     "ename": "IndexError",
     "evalue": "index 0 is out of bounds for dimension 0 with size 0",
     "output_type": "error",
     "traceback": [
      "\u001b[31m---------------------------------------------------------------------------\u001b[39m",
      "\u001b[31mIndexError\u001b[39m                                Traceback (most recent call last)",
      "\u001b[36mCell\u001b[39m\u001b[36m \u001b[39m\u001b[32mIn[8]\u001b[39m\u001b[32m, line 3\u001b[39m\n\u001b[32m      1\u001b[39m \u001b[38;5;66;03m# Pick a malicious node:\u001b[39;00m\n\u001b[32m----> \u001b[39m\u001b[32m3\u001b[39m mal_idx = \u001b[43m(\u001b[49m\u001b[43mdata\u001b[49m\u001b[43m.\u001b[49m\u001b[43my\u001b[49m\u001b[43m==\u001b[49m\u001b[32;43m1\u001b[39;49m\u001b[43m)\u001b[49m\u001b[43m.\u001b[49m\u001b[43mnonzero\u001b[49m\u001b[43m(\u001b[49m\u001b[43m)\u001b[49m\u001b[43m[\u001b[49m\u001b[32;43m0\u001b[39;49m\u001b[43m]\u001b[49m.item()\n",
      "\u001b[31mIndexError\u001b[39m: index 0 is out of bounds for dimension 0 with size 0"
     ]
    }
   ],
   "source": [
    "# Pick a malicious node:\n",
    "\n",
    "mal_idx = (data.y==1).nonzero()[0].item()"
   ]
  },
  {
   "cell_type": "code",
   "execution_count": null,
   "metadata": {},
   "outputs": [],
   "source": [
    "# Modify its feature or edges:\n",
    "# e.g. downscale its out-degree feature\n",
    "original = data.x[mal_idx].clone()\n",
    "data.x[mal_idx] *= 0.5\n"
   ]
  },
  {
   "cell_type": "code",
   "execution_count": null,
   "metadata": {},
   "outputs": [],
   "source": [
    "# Re-embed & Re-visualize:\n",
    "\n",
    "Zp = model(data.x, data.edge_index).cpu().numpy()\n",
    "z2dp = TSNE(n_components=2, perplexity=30).fit_transform(Zp)\n",
    "plt.scatter(z2dp[:,0], z2dp[:,1], c=data.y, s=20, alpha=0.5)\n",
    "plt.scatter(z2dp[mal_idx,0], z2dp[mal_idx,1], c='k', s=80, label=\"perturbed\")\n",
    "plt.legend(); plt.show()"
   ]
  },
  {
   "cell_type": "code",
   "execution_count": null,
   "metadata": {},
   "outputs": [],
   "source": [
    "# Observe how that node’s embedding moves closer to benign clusters."
   ]
  }
 ],
 "metadata": {
  "kernelspec": {
   "display_name": ".venv",
   "language": "python",
   "name": "python3"
  },
  "language_info": {
   "codemirror_mode": {
    "name": "ipython",
    "version": 3
   },
   "file_extension": ".py",
   "mimetype": "text/x-python",
   "name": "python",
   "nbconvert_exporter": "python",
   "pygments_lexer": "ipython3",
   "version": "3.11.8"
  }
 },
 "nbformat": 4,
 "nbformat_minor": 2
}
